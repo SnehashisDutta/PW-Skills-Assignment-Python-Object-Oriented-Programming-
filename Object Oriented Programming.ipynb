{
 "cells": [
  {
   "cell_type": "markdown",
   "id": "26b3cad3-c2a1-4a9e-bda4-c035356601a4",
   "metadata": {},
   "source": [
    "# 1. Explain the importance of Functions\n",
    "\n",
    "- Reusability: Like having a magic spell you can cast again and again, functions save you time and effort by letting you reuse code instead of rewriting it.\n",
    "\n",
    "- Organization: Functions act like organizers for your code, keeping everything neat and tidy by dividing it into manageable sections with clear purposes.\n",
    "\n",
    "- Readability: By breaking down complex tasks into smaller steps within functions, your code becomes easier to understand for both you and others.\n",
    "\n",
    "- Maintainability: If you need to change something, you only need to update the relevant function, not hunt through your entire code. It's like fixing one Lego piece instead of rebuilding the whole castle.\n",
    "\n",
    "- Abstraction: Functions hide the complex details, allowing you to focus on what the code does rather than how it does it. This makes your code cleaner and easier to work with."
   ]
  },
  {
   "cell_type": "code",
   "execution_count": 1,
   "id": "9b9fc48a-03e9-47e4-a208-6295e13db8e2",
   "metadata": {},
   "outputs": [
    {
     "name": "stdout",
     "output_type": "stream",
     "text": [
      "Hello, Alice! Welcome to class.\n",
      "Hello, Bob! Welcome to class.\n",
      "Hello, Charlie! Welcome to class.\n"
     ]
    }
   ],
   "source": [
    "# 2. Write a basic function to greet students\n",
    "\n",
    "def greet_students(names):\n",
    " \n",
    "  for name in names:\n",
    "        \n",
    "    print(f\"Hello, {name}! Welcome to class.\")\n",
    "\n",
    "student_list = [\"Alice\", \"Bob\", \"Charlie\"]\n",
    "\n",
    "greet_students(student_list)"
   ]
  },
  {
   "cell_type": "markdown",
   "id": "1acc0ecb-23d9-403a-9864-6264ab219121",
   "metadata": {
    "tags": []
   },
   "source": [
    "# 3. What is the difference between print and return statements\n",
    "\n",
    "# Print:\n",
    "- Displays output: It shows information on the screen, like a message or a variable's value.\n",
    "- Doesn't return a value: It simply outputs information and doesn't provide anything for further use in the code.\n",
    "# Return:\n",
    "- Provides a value: It sends a value back to the code that called the function.\n",
    "- Can be stored and used: The returned value can be stored in a variable, used in calculations, or passed to other functions for further processing.\n",
    "\n",
    "In short: Use print to display information and return to provide a value for further use in your code."
   ]
  },
  {
   "cell_type": "markdown",
   "id": "ce591e95-1df6-4cae-baed-29fcc4892a6e",
   "metadata": {},
   "source": [
    "# 4. What are *args and **kwargs\n",
    "\n",
    "These are special syntax elements in Python functions that allow you to pass a variable number of arguments:\n",
    "# *args:\n",
    "- Variable positional arguments: This captures any number of positional arguments (arguments passed without keywords) as a tuple.\n",
    "\n",
    "- Example: \n",
    "\n",
    "def sum_numbers(*args):\n",
    "  total = 0\n",
    "  for num in args:\n",
    "    total += num\n",
    "  return total\n",
    "\n",
    "result = sum_numbers(1, 2, 3, 4, 5)  # args becomes (1, 2, 3, 4, 5)\n",
    "print(result)  # Output: 15\n",
    "\n",
    "# **kwargs:\n",
    "- Variable keyword arguments: This captures any number of keyword arguments (arguments passed with keywords) as a dictionary.\n",
    "\n",
    "- Example:\n",
    " \n",
    "def greet_person(**kwargs):\n",
    "  if \"name\" in kwargs:\n",
    "    print(f\"Hello, {kwargs['name']}!\")\n",
    "  if \"age\" in kwargs:\n",
    "    print(f\"You are {kwargs['age']} years old.\")\n",
    "\n",
    "greet_person(name=\"Alice\", age=30)\n"
   ]
  },
  {
   "cell_type": "markdown",
   "id": "4d849252-2034-4705-bbd8-2c90a77d3806",
   "metadata": {},
   "source": [
    "# 5. Explain the iterator function\n",
    "\n",
    "\n",
    "An iterator function is like a special guide that lets you walk through a collection of items (like a list, tuple, or string) one item at a time. It remembers where you are and gives you the next item when you ask for it.\n",
    "\n",
    "How it works:\n",
    "\n",
    "- iter() function: You first use the built-in iter() function to get an iterator object for your collection. This object knows how to navigate through the collection.\n",
    "- next() function: You then use the next() function to get the next item from the iterator. Each time you call next(), it moves to the next item and gives it to you.\n",
    "- StopIteration: When you reach the end of the collection, next() will raise a StopIteration exception, signaling that there are no more items.\n",
    "\n",
    "- Example:\n",
    "\n",
    "my_list = [1, 2, 3, 4, 5]\n",
    "my_iterator = iter(my_list)\n",
    "\n",
    "print(next(my_iterator))  # Output: 1\n",
    "print(next(my_iterator))  # Output: 2\n",
    "print(next(my_iterator))  # Output: 3\n",
    "\n"
   ]
  },
  {
   "cell_type": "code",
   "execution_count": 2,
   "id": "722b422c-6eef-46ab-8a6e-76d67cfcb835",
   "metadata": {},
   "outputs": [
    {
     "name": "stdout",
     "output_type": "stream",
     "text": [
      "1\n",
      "4\n",
      "9\n",
      "16\n",
      "25\n"
     ]
    }
   ],
   "source": [
    "# 6. Write a code that generates the squares of numbers from 1 to n using a generator\n",
    "\n",
    "def squares_generator(n):\n",
    "\n",
    "  for num in range(1, n + 1):\n",
    "    yield num * num\n",
    "\n",
    "for square in squares_generator(5):\n",
    "    \n",
    "  print(square)"
   ]
  },
  {
   "cell_type": "code",
   "execution_count": 4,
   "id": "cd4330c1-053b-49b1-89bc-b6e37ed346d5",
   "metadata": {},
   "outputs": [
    {
     "name": "stdout",
     "output_type": "stream",
     "text": [
      "1\n",
      "2\n",
      "3\n",
      "4\n",
      "5\n",
      "6\n",
      "7\n",
      "8\n",
      "9\n",
      "11\n",
      "22\n",
      "33\n",
      "44\n"
     ]
    }
   ],
   "source": [
    "# 7. Write a code that generates palindromic numbers up to n using a generator\n",
    "\n",
    "def palindrome_generator(n):\n",
    " \n",
    "  for num in range(1, n + 1):\n",
    "    num_str = str(num)\n",
    "    if num_str == num_str[::-1]: \n",
    "      yield num\n",
    "    \n",
    "for palindrome in palindrome_generator(50):\n",
    "    \n",
    "  print(palindrome)"
   ]
  },
  {
   "cell_type": "code",
   "execution_count": 5,
   "id": "59f8b725-cbdc-4279-8460-a7937114023c",
   "metadata": {},
   "outputs": [
    {
     "name": "stdout",
     "output_type": "stream",
     "text": [
      "2\n",
      "4\n",
      "6\n",
      "8\n",
      "10\n"
     ]
    }
   ],
   "source": [
    "# 8. Write a code that generates even numbers from 2 to n using a generator\n",
    "\n",
    "def even_generator(n):\n",
    " \n",
    "  for num in range(2, n + 1, 2):\n",
    "    yield num\n",
    "    \n",
    "for even_num in even_generator(10):\n",
    "    \n",
    "  print(even_num)"
   ]
  },
  {
   "cell_type": "code",
   "execution_count": 6,
   "id": "c7f3dc6f-4669-4ed5-b49d-6262f2100272",
   "metadata": {},
   "outputs": [
    {
     "name": "stdout",
     "output_type": "stream",
     "text": [
      "1\n",
      "2\n",
      "4\n",
      "8\n",
      "16\n"
     ]
    }
   ],
   "source": [
    "# 9. Write a code that generates powers of two up to n using a generator\n",
    "\n",
    "def powers_of_two(max_power):\n",
    "\n",
    "  power = 0\n",
    "  while power <= max_power:\n",
    "    yield 2 ** power  \n",
    "    power += 1 \n",
    "\n",
    "for power in powers_of_two(4):\n",
    "    \n",
    "  print(power)"
   ]
  },
  {
   "cell_type": "code",
   "execution_count": 7,
   "id": "91956e41-8a62-4a5f-b189-fa3d898e3299",
   "metadata": {},
   "outputs": [
    {
     "name": "stdout",
     "output_type": "stream",
     "text": [
      "2\n",
      "3\n",
      "5\n",
      "7\n",
      "11\n",
      "13\n",
      "17\n",
      "19\n"
     ]
    }
   ],
   "source": [
    "# 10. Write a code that generates prime numbers up to n using a generator\n",
    "\n",
    "def prime_generator(n):\n",
    "\n",
    "  def is_prime(num):\n",
    "    \n",
    "    if num <= 1:\n",
    "      return False\n",
    "    for i in range(2, int(num**0.5) + 1):\n",
    "      if num % i == 0:\n",
    "        return False\n",
    "    return True\n",
    "\n",
    "  for num in range(2, n + 1):\n",
    "    if is_prime(num):\n",
    "      yield num\n",
    "\n",
    "for prime in prime_generator(20):\n",
    "    \n",
    "  print(prime) "
   ]
  },
  {
   "cell_type": "code",
   "execution_count": 8,
   "id": "d5f77ff1-1952-42ff-b5a0-3f72177565c2",
   "metadata": {},
   "outputs": [
    {
     "name": "stdout",
     "output_type": "stream",
     "text": [
      "8\n"
     ]
    }
   ],
   "source": [
    "# 11. Write a code that uses a lambda function to calculate the sum of two numbers\n",
    "\n",
    "add_numbers = lambda x, y: x + y\n",
    "\n",
    "result = add_numbers(5, 3)\n",
    "\n",
    "print(result)  \n",
    "# Output: 8"
   ]
  },
  {
   "cell_type": "code",
   "execution_count": 9,
   "id": "f59453cf-eddf-4f72-8f1d-d2183c7808bb",
   "metadata": {},
   "outputs": [
    {
     "name": "stdout",
     "output_type": "stream",
     "text": [
      "25\n"
     ]
    }
   ],
   "source": [
    "# 12. Write a code that uses a lambda function to calculate the square of a given number\n",
    "\n",
    "square = lambda x: x * x\n",
    "\n",
    "result = square(5)\n",
    "\n",
    "print(result) \n",
    "\n",
    "# Output: 25"
   ]
  },
  {
   "cell_type": "code",
   "execution_count": 11,
   "id": "6f79921c-7765-4796-8639-0ae8387d8c5f",
   "metadata": {},
   "outputs": [
    {
     "name": "stdout",
     "output_type": "stream",
     "text": [
      "7 is odd\n"
     ]
    }
   ],
   "source": [
    "# 13. Write a code that uses a lambda function to check whether a given number is even or odd\n",
    "\n",
    "is_even = lambda x: x % 2 == 0\n",
    "\n",
    "number = 7\n",
    "result = is_even(number)\n",
    "\n",
    "if result:\n",
    " print(f\"{number} is even\")\n",
    "else:\n",
    " print(f\"{number} is odd\")"
   ]
  },
  {
   "cell_type": "markdown",
   "id": "e021d6a3-c02d-4efa-a563-5eee6b3a1d38",
   "metadata": {},
   "source": [
    "# Question number : 14 is missing in Oops PDF."
   ]
  },
  {
   "cell_type": "code",
   "execution_count": 14,
   "id": "00f36e00-d4a5-4c83-be07-d046a50647c4",
   "metadata": {},
   "outputs": [
    {
     "name": "stdout",
     "output_type": "stream",
     "text": [
      "PW-Skills\n"
     ]
    }
   ],
   "source": [
    "# 15. # 15. Write a code that uses a lambda function to concatenate two strings\n",
    "\n",
    "combine_strings = lambda x, y: x + y\n",
    "\n",
    "string1 = \"PW\"\n",
    "string2 = \"-Skills\"\n",
    "\n",
    "result = combine_strings(string1, string2)\n",
    "\n",
    "print(result)  \n",
    "\n",
    "# Output: PW-Skills"
   ]
  },
  {
   "cell_type": "code",
   "execution_count": 15,
   "id": "589af90c-9dc2-4479-92b2-9d0d97c80a0c",
   "metadata": {},
   "outputs": [
    {
     "name": "stdout",
     "output_type": "stream",
     "text": [
      "9\n"
     ]
    }
   ],
   "source": [
    "# 16. Write a code that uses a lambda function to find the maximum of three given numbers\n",
    "\n",
    "find_max = lambda x, y, z: max(x, y, z)\n",
    "\n",
    "result = find_max(5, 2, 9)\n",
    "print(result)  \n",
    "\n",
    "# Output: 9"
   ]
  },
  {
   "cell_type": "code",
   "execution_count": 16,
   "id": "8d275234-c4a6-4054-b99f-1b79d9fa2deb",
   "metadata": {},
   "outputs": [
    {
     "name": "stdout",
     "output_type": "stream",
     "text": [
      "[4, 16, 36, 64, 100]\n"
     ]
    }
   ],
   "source": [
    "# 17. Write a code that generates the squares of even numbers from a given list\n",
    "\n",
    "def square_even_numbers(numbers):\n",
    " \n",
    "  squares = []\n",
    "  for num in numbers:\n",
    "    if num % 2 == 0:\n",
    "      squares.append(num * num)\n",
    "  return squares\n",
    "\n",
    "numbers_list = [1, 2, 3, 4, 5, 6, 7, 8, 9, 10]\n",
    "result = square_even_numbers(numbers_list)\n",
    "print(result) \n",
    "\n",
    "# Output: [4, 16, 36, 64, 100]"
   ]
  },
  {
   "cell_type": "code",
   "execution_count": 17,
   "id": "d118cf60-7842-4c64-ab62-46e30c465322",
   "metadata": {},
   "outputs": [
    {
     "name": "stdout",
     "output_type": "stream",
     "text": [
      "24\n"
     ]
    }
   ],
   "source": [
    "# 18. Write a code that calculates the product of positive numbers from a given list\n",
    "\n",
    "def product_of_positives(numbers):\n",
    " \n",
    "  product = 1\n",
    "  for num in numbers:\n",
    "    if num > 0:\n",
    "      product *= num\n",
    "  return product\n",
    "\n",
    "numbers_list = [-2, 1, 0, 4, -3, 6]\n",
    "result = product_of_positives(numbers_list)\n",
    "print(result)  \n",
    "\n",
    "# Output: 24"
   ]
  },
  {
   "cell_type": "code",
   "execution_count": 18,
   "id": "baafd5fb-e8c7-4f86-b815-5399db743d94",
   "metadata": {},
   "outputs": [
    {
     "name": "stdout",
     "output_type": "stream",
     "text": [
      "[2, 2, 6, 4, 10, 6, 14, 8, 18, 10]\n"
     ]
    }
   ],
   "source": [
    "# 19. Write a code that doubles the values of odd numbers from a given list\n",
    "\n",
    "def double_odd_numbers(numbers):\n",
    "  \n",
    "  doubled = []\n",
    "  for num in numbers:\n",
    "    if num % 2 != 0: \n",
    "      doubled.append(num * 2)\n",
    "    else:\n",
    "      doubled.append(num)  \n",
    "  return doubled\n",
    "\n",
    "numbers_list = [1, 2, 3, 4, 5, 6, 7, 8, 9, 10]\n",
    "result = double_odd_numbers(numbers_list)\n",
    "print(result) \n",
    "\n",
    "# Output: [2, 2, 6, 4, 10, 6, 14, 8, 18, 10]"
   ]
  },
  {
   "cell_type": "code",
   "execution_count": 19,
   "id": "11042985-1dab-4aa6-a5a2-db936efba31d",
   "metadata": {},
   "outputs": [
    {
     "name": "stdout",
     "output_type": "stream",
     "text": [
      "225\n"
     ]
    }
   ],
   "source": [
    "# 20. Write a code that calculates the sum of cubes of numbers from a given list\n",
    "\n",
    "def sum_of_cubes(numbers):\n",
    " \n",
    "  cube_sum = 0\n",
    "  for num in numbers:\n",
    "    cube_sum += num ** 3  \n",
    "  return cube_sum\n",
    "\n",
    "numbers_list = [1, 2, 3, 4, 5]\n",
    "result = sum_of_cubes(numbers_list)\n",
    "print(result) \n",
    "\n",
    "# Output: 225"
   ]
  },
  {
   "cell_type": "code",
   "execution_count": 20,
   "id": "dbbc04c0-dc3d-4046-b627-e345f4490961",
   "metadata": {},
   "outputs": [
    {
     "name": "stdout",
     "output_type": "stream",
     "text": [
      "[2, 3, 5, 7]\n"
     ]
    }
   ],
   "source": [
    "# 21. Write a code that filters out prime numbers from a given list\n",
    "\n",
    "def filter_primes(numbers):\n",
    " \n",
    "  def is_prime(num):\n",
    "    if num <= 1:\n",
    "      return False\n",
    "    for i in range(2, int(num**0.5) + 1):\n",
    "      if num % i == 0:\n",
    "        return False\n",
    "    return True\n",
    "\n",
    "  primes = [num for num in numbers if is_prime(num)]\n",
    "  return primes\n",
    "\n",
    "numbers_list = [1, 2, 3, 4, 5, 6, 7, 8, 9, 10]\n",
    "primes = filter_primes(numbers_list)\n",
    "print(primes) \n",
    "\n",
    "# Output: [2, 3, 5, 7]"
   ]
  },
  {
   "cell_type": "markdown",
   "id": "804701f0-df95-4e11-a553-60f3ec1823af",
   "metadata": {},
   "source": [
    "# Questions 22 to 26 are repeated questions => Question : 11 to 16 are same \n",
    "\n"
   ]
  },
  {
   "cell_type": "markdown",
   "id": "85fe97f5-0d19-4a40-a186-c4ae0d6ab380",
   "metadata": {},
   "source": [
    "# 27. What is encapsulation in OOP?\n",
    "\n",
    "Encapsulation in OOP is like putting a protective shield around data and methods within a class, controlling access and preventing misuse. It's about data hiding and using methods as the only way to interact with the data.\n",
    "\n",
    "- Benefits: Data protection, modularity, flexibility, and reusability."
   ]
  },
  {
   "cell_type": "markdown",
   "id": "3388f686-d4bc-48c4-a4d2-9fd89f93ddbd",
   "metadata": {},
   "source": [
    "# 28. Explain the use of access modifiers in Python classes\n",
    "\n",
    "Access Modifiers in Python: A Convention for Organization\n",
    "While Python doesn't have strict access modifiers like some other languages (e.g., private or public), it uses a convention to indicate the intended level of access for attributes and methods within a class:\n",
    "\n",
    " # 1. Public:\n",
    "No prefix: By default, attributes and methods are considered public. This means they can be accessed from anywhere, both inside and outside the class.\n",
    "- Example:\n",
    "\n",
    "class MyClass:\n",
    "    def __init__(self, data):\n",
    "        self.data = data  # Public attribute\n",
    "\n",
    "    def get_data(self):\n",
    "        return self.data  # Public method\n",
    "\n",
    " # 2. Protected:\n",
    "Single underscore prefix (_): This indicates that an attribute or method is intended for internal use within the class and its subclasses. It's a convention, not a strict rule, so external code can still access it, but it's a signal that it shouldn't be modified directly.\n",
    "- Example:\n",
    "\n",
    "class MyClass:\n",
    "    def __init__(self, data):\n",
    "        self._data = data  # Protected attribute\n",
    "\n",
    "    def _process_data(self):\n",
    "        # Internal processing\n",
    "        pass\n",
    "\n",
    " # 3. Private:\n",
    "Double underscore prefix (__): This triggers name mangling, which makes it harder to access the attribute or method from outside the class. It's not truly private, but it discourages direct access.\n",
    "- Example:\n",
    "\n",
    "class MyClass:\n",
    "    def __init__(self, data):\n",
    "        self.__data = data  # Private attribute\n",
    "\n",
    "    def get_data(self):\n",
    "        return self.__data\n"
   ]
  },
  {
   "cell_type": "markdown",
   "id": "5a39c20f-575b-433b-8947-62564973818b",
   "metadata": {},
   "source": [
    "# 29. What is inheritance in OOP\n",
    "\n",
    "# Inheritance: Building on Existing Foundations\n",
    "Inheritance is a powerful mechanism in Object-Oriented Programming (OOP) that allows you to create new classes (child classes or subclasses) that inherit properties and behavior from existing classes (parent classes or superclasses). It's like building new houses based on a pre-existing blueprint, but with the ability to add your own custom features.\n",
    "# Key Concepts:\n",
    "- Parent Class (Superclass): The existing class from which the child class inherits.\n",
    "- Child Class (Subclass): The new class that inherits from the parent class.\n",
    "- Inheritance: The process of acquiring properties and behavior from the parent class.\n",
    "# Benefits of Inheritance:\n",
    "- Code Reusability: Avoid rewriting code by inheriting functionality from parent classes.\n",
    "- Extensibility: Easily extend existing functionality by adding new features to child classes.\n",
    "- Hierarchy and Organization: Create a structured hierarchy of classes, making code easier to understand and maintain.\n",
    "- Polymorphism: Allows objects of different classes to be treated as objects of a common parent class, enabling flexible and dynamic interactions.\n",
    "\n",
    "# Types of Inheritance:\n",
    "- Single Inheritance: A child class inherits from only one parent class.\n",
    "- Multiple Inheritance: A child class inherits from multiple parent classes. (This can get complex and is not supported in all OOP languages.)\n"
   ]
  },
  {
   "cell_type": "markdown",
   "id": "9ce32d43-a853-44c4-b02f-60a7328bea2a",
   "metadata": {},
   "source": [
    "# 30. Define polymorphism in OOP \n",
    "\n",
    "# Polymorphism: Many Forms, One Interface\n",
    "- Polymorphism, meaning \"many forms,\" is a core principle in OOP that allows objects of different classes to be treated as objects of a common superclass. It's like having different types of shapes (circle, square, triangle) that can all be treated as \"shapes\" and respond to the same actions (e.g., calculate_area()) in their own unique ways.\n",
    "# Key Concepts:\n",
    "- Inheritance: Polymorphism typically relies on inheritance. Child classes inherit methods from a parent class and can provide their own implementations.\n",
    "- Method Overriding: Child classes can redefine (override) methods inherited from the parent class to implement specific behavior.\n",
    "- Dynamic Binding: The actual method that gets called is determined at runtime based on the object's type, not the variable's type.\n",
    "# Benefits of Polymorphism:\n",
    "- Flexibility: Write code that can work with objects of different classes without needing to know their specific types.\n",
    "- Extensibility: Easily add new classes without changing existing code that uses polymorphism.\n",
    "- Code Reusability: Reduce code duplication by using common interfaces for different objects.\n",
    "# Types of Polymorphism:\n",
    "- Method Overriding\n",
    "- Method Overloading (Not available in Python)"
   ]
  },
  {
   "cell_type": "code",
   "execution_count": null,
   "id": "eb9370d2-eea7-4ee7-90b3-adfb9fbf8351",
   "metadata": {},
   "outputs": [],
   "source": []
  }
 ],
 "metadata": {
  "kernelspec": {
   "display_name": "Python 3 (ipykernel)",
   "language": "python",
   "name": "python3"
  },
  "language_info": {
   "codemirror_mode": {
    "name": "ipython",
    "version": 3
   },
   "file_extension": ".py",
   "mimetype": "text/x-python",
   "name": "python",
   "nbconvert_exporter": "python",
   "pygments_lexer": "ipython3",
   "version": "3.10.8"
  }
 },
 "nbformat": 4,
 "nbformat_minor": 5
}
